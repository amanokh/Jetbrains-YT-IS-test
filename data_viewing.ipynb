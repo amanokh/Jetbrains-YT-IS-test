{
 "cells": [
  {
   "cell_type": "code",
   "execution_count": 133,
   "metadata": {},
   "outputs": [],
   "source": [
    "import sqlite3\n",
    "import plotly.express as px\n",
    "import pandas as pd\n",
    "from IPython.display import display\n",
    "from datetime import datetime\n",
    "from ipywidgets import interact, interactive, fixed, interact_manual\n",
    "import ipywidgets as widgets\n",
    "\n",
    "cnx = sqlite3.connect('tvrain.db')\n",
    "df = pd.read_sql_query(\"SELECT * FROM video_table ORDER BY publish_date DESC;\", cnx)\n",
    "\n",
    "\n"
   ]
  },
  {
   "cell_type": "markdown",
   "metadata": {
    "pycharm": {
     "name": "#%% md\n"
    }
   },
   "source": [
    "### Динамика характеристик у последних 10 видео:"
   ]
  },
  {
   "cell_type": "code",
   "execution_count": 134,
   "outputs": [
    {
     "data": {
      "text/plain": "interactive(children=(Dropdown(description='video_id', options=(('D8MEuee18d8', 'Как открывали штаб Навального…",
      "application/vnd.jupyter.widget-view+json": {
       "version_major": 2,
       "version_minor": 0,
       "model_id": "9ea89e38dd5b43b9b149b7b19cae6a4c"
      }
     },
     "metadata": {},
     "output_type": "display_data"
    },
    {
     "data": {
      "text/plain": "<function __main__.show_graph(video_id, param)>"
     },
     "execution_count": 134,
     "metadata": {},
     "output_type": "execute_result"
    }
   ],
   "source": [
    "def show_graph(video_id, param):\n",
    "    time_cursor = cnx.cursor()\n",
    "    time_cursor.execute(\"SELECT name FROM sqlite_master WHERE type='table' AND name!='video_table' ORDER BY name;\")\n",
    "    time_list = time_cursor.fetchall()\n",
    "    views = []\n",
    "    for table in time_list:\n",
    "        state_df = pd.read_sql_query(\"SELECT * FROM '%s' WHERE video_id='%s';\" % (table[0], video_id[0]), cnx)\n",
    "        if not state_df.empty:\n",
    "            views.append([datetime.strptime(table[0], \"%Y-%m-%dT%H-%M\"), state_df[param].values[0]])\n",
    "    video_df = pd.DataFrame(views, columns = ['time', param])\n",
    "\n",
    "    px.line(video_df, x='time', y=param).show()\n",
    "    \n",
    "\n",
    "last_video_ids = df.head(10).to_records(index=False)\n",
    "interact(show_graph, video_id=last_video_ids, param=[\"views\", \"likes\", \"dislikes\", \"comments\"])\n",
    "\n",
    "        "
   ],
   "metadata": {
    "collapsed": false,
    "pycharm": {
     "name": "#%%\n"
    }
   }
  },
  {
   "cell_type": "code",
   "execution_count": 134,
   "outputs": [],
   "source": [],
   "metadata": {
    "collapsed": false,
    "pycharm": {
     "name": "#%%\n"
    }
   }
  },
  {
   "cell_type": "code",
   "execution_count": 134,
   "outputs": [],
   "source": [],
   "metadata": {
    "collapsed": false,
    "pycharm": {
     "name": "#%%\n"
    }
   }
  },
  {
   "cell_type": "code",
   "execution_count": 130,
   "metadata": {
    "pycharm": {
     "name": "#%%\n"
    }
   },
   "outputs": [
    {
     "data": {
      "text/plain": "interactive(children=(Dropdown(description='video_id', options=(('rHMi4SZcgYA', 'Вести недели с Дмитрием Кисел…",
      "application/vnd.jupyter.widget-view+json": {
       "version_major": 2,
       "version_minor": 0,
       "model_id": "56843f725bfa401ca9a59ae085124560"
      }
     },
     "metadata": {},
     "output_type": "display_data"
    },
    {
     "data": {
      "text/plain": "<function __main__.show_graph(video_id, param)>"
     },
     "execution_count": 130,
     "metadata": {},
     "output_type": "execute_result"
    }
   ],
   "source": []
  },
  {
   "cell_type": "code",
   "execution_count": 130,
   "outputs": [],
   "source": [],
   "metadata": {
    "collapsed": false,
    "pycharm": {
     "name": "#%%\n"
    }
   }
  },
  {
   "cell_type": "code",
   "execution_count": null,
   "metadata": {},
   "outputs": [],
   "source": []
  }
 ],
 "metadata": {
  "kernelspec": {
   "display_name": "Python 3",
   "language": "python",
   "name": "python3"
  },
  "language_info": {
   "codemirror_mode": {
    "name": "ipython",
    "version": 3
   },
   "file_extension": ".py",
   "mimetype": "text/x-python",
   "name": "python",
   "nbconvert_exporter": "python",
   "pygments_lexer": "ipython3",
   "version": "3.7.0"
  }
 },
 "nbformat": 4,
 "nbformat_minor": 1
}