{
 "cells": [
  {
   "cell_type": "markdown",
   "metadata": {
    "collapsed": true,
    "pycharm": {
     "name": "#%% md\n"
    }
   },
   "source": [
    "## JetBrains-YT-Test"
   ]
  },
  {
   "cell_type": "markdown",
   "metadata": {
    "pycharm": {
     "name": "#%% md\n"
    }
   },
   "source": [
    "Создаём конфигурацию, импортируем библиотеки Google API:"
   ]
  },
  {
   "cell_type": "code",
   "execution_count": 45,
   "metadata": {
    "pycharm": {
     "name": "#%%\n"
    }
   },
   "outputs": [],
   "source": [
    "# -*- coding: utf-8 -*-\n",
    "\n",
    "# Sample Python code for youtube.channels.list\n",
    "# See instructions for running these code samples locally:\n",
    "# https://developers.google.com/explorer-help/guides/code_samples#python\n",
    "\n",
    "import os\n",
    "\n",
    "import googleapiclient.discovery\n",
    "import googleapiclient.errors\n",
    "\n",
    "scopes = [\"https://www.googleapis.com/auth/youtube.readonly\"]\n",
    "api_key = open('api_key.txt', \"r\").read()\n",
    "api_service_name = \"youtube\"\n",
    "api_version = \"v3\"\n",
    "\n",
    "# Get credentials and create an API client\n",
    "youtube = googleapiclient.discovery.build(\n",
    "        api_service_name, api_version, developerKey=api_key)"
   ]
  },
  {
   "cell_type": "markdown",
   "metadata": {
    "pycharm": {
     "name": "#%% md\n"
    }
   },
   "source": [
    "Функции для получения данных с сервера:"
   ]
  },
  {
   "cell_type": "code",
   "execution_count": 46,
   "metadata": {
    "pycharm": {
     "name": "#%%\n"
    }
   },
   "outputs": [],
   "source": [
    "def get_channel_info(channel_id):\n",
    "    request = youtube.channels().list(\n",
    "        part=\"snippet,contentDetails,statistics\",\n",
    "        id=channel_id\n",
    "    )\n",
    "    response = request.execute()\n",
    "\n",
    "    return response['items'][0]\n",
    "\n",
    "\n",
    "\n",
    "def get_playlist_info(playlist_id):\n",
    "    request = youtube.playlistItems().list(\n",
    "        part=\"contentDetails\",\n",
    "        playlistId=playlist_id\n",
    "    )\n",
    "    response = request.execute()\n",
    "\n",
    "    return response\n",
    "\n",
    "def get_playlist_iterating(playlist_id, page_token=None):\n",
    "    if page_token:\n",
    "        request = youtube.playlistItems().list(\n",
    "            part=\"contentDetails\",\n",
    "            playlistId=playlist_id,\n",
    "            pageToken=page_token\n",
    "        )\n",
    "    else:\n",
    "        request = youtube.playlistItems().list(\n",
    "        part=\"contentDetails\",\n",
    "        playlistId=playlist_id\n",
    "    )\n",
    "    response = request.execute()\n",
    "\n",
    "    return response\n",
    "\n",
    "def get_video_info(video_id_list):\n",
    "    request = youtube.videos().list(\n",
    "        part=\"snippet,contentDetails,statistics\",\n",
    "        id=\",\".join(video_id_list)\n",
    "    )\n",
    "    response = request.execute()\n",
    "\n",
    "    return response['items']"
   ]
  },
  {
   "cell_type": "markdown",
   "metadata": {
    "pycharm": {
     "name": "#%% md\n"
    }
   },
   "source": [
    "Функции для записи в БД:"
   ]
  },
  {
   "cell_type": "code",
   "execution_count": 47,
   "metadata": {
    "pycharm": {
     "name": "#%%\n"
    }
   },
   "outputs": [],
   "source": [
    "import logging\n",
    "from datetime import datetime\n",
    "from sqlite_utils import Database\n",
    "from sqlite_utils.db import NotFoundError\n",
    "from json.decoder import JSONDecodeError\n",
    "\n",
    "db = Database(\"rossiya24.db\")\n",
    "#db = Database(\"tvrain.db\")\n",
    "\n",
    "def video_table_init():\n",
    "    video_db_table = db.table(\"video_table\")\n",
    "    if not video_db_table.exists():\n",
    "        video_db_table.create({\n",
    "            \"video_id\": str,\n",
    "            \"title\": str,\n",
    "            \"tags_list\": str,\n",
    "            \"category_id\": int,\n",
    "            \"length\": str,\n",
    "            \"publish_date\": str\n",
    "        }, pk=\"video_id\")\n",
    "        logging.log(logging.WARNING, \"db->video_table was created\")\n",
    "\n",
    "\n",
    "def state_table_init():\n",
    "    table_name = datetime.utcnow().strftime(\"%Y-%m-%dT%H-%M\")\n",
    "    new_table = db.table(table_name)\n",
    "    if not new_table.exists():\n",
    "        new_table.create({\n",
    "            \"video_id\": str,\n",
    "            \"views\": int,\n",
    "            \"likes\": int,\n",
    "            \"dislikes\": int,\n",
    "            \"comments\": int,\n",
    "            \"popular_comment_likes\": int\n",
    "        }, pk=\"video_id\")\n",
    "        logging.log(logging.WARNING, \"db->%s table was created\" % table_name)\n",
    "    return table_name\n",
    "\n",
    "def db_insert_video(video_info):\n",
    "    video_db_table = db.table(\"video_table\")\n",
    "    snippet = video_info[\"snippet\"]\n",
    "    \n",
    "    video_id = video_info.get(\"id\")\n",
    "    title = snippet.get(\"title\")\n",
    "    publish_date = snippet.get(\"publishedAt\")\n",
    "    length = video_info[\"contentDetails\"].get(\"duration\")\n",
    "    tags = \",\".join(snippet.get(\"tags\",[]))\n",
    "    category = int(snippet.get(\"categoryId\"))\n",
    "\n",
    "    try:\n",
    "        video_db_table.insert({\n",
    "            \"video_id\": video_id,\n",
    "            \"title\": title,\n",
    "            \"tags_list\": tags,\n",
    "            \"category_id\": category,\n",
    "            \"publish_date\": publish_date,\n",
    "            \"length\": length\n",
    "        })\n",
    "    except:\n",
    "        pass\n",
    "\n",
    "def db_set_state(table_time, video_info):\n",
    "    state_table = db.table(table_time)\n",
    "    statistics = video_info.get(\"statistics\")\n",
    "    \n",
    "    views = statistics.get(\"viewCount\")\n",
    "    likes = statistics.get(\"likeCount\")\n",
    "    dislikes = statistics.get(\"dislikeCount\")\n",
    "    comments = statistics.get(\"commentCount\")\n",
    "    try:\n",
    "        state_table.insert({\n",
    "                \"video_id\": video_info[\"id\"],\n",
    "                \"views\": views,\n",
    "                \"likes\": likes,\n",
    "                \"dislikes\": dislikes,\n",
    "                \"comments\": comments})\n",
    "    except:\n",
    "        logging.log(logging.WARNING, \"video error %s\" % video_info['id'])\n"
   ]
  },
  {
   "cell_type": "markdown",
   "metadata": {
    "pycharm": {
     "name": "#%% md\n"
    }
   },
   "source": [
    "test functions"
   ]
  },
  {
   "cell_type": "code",
   "execution_count": 48,
   "metadata": {
    "pycharm": {
     "name": "#%%\n"
    }
   },
   "outputs": [
    {
     "name": "stderr",
     "output_type": "stream",
     "text": [
      "WARNING:root:db->2021-04-11T19-44 table was created\n"
     ]
    },
    {
     "name": "stdout",
     "output_type": "stream",
     "text": [
      "Videos count: 219929\n"
     ]
    }
   ],
   "source": [
    "channel_info = get_channel_info(\"UC_IEcnNeHc_bwd92Ber-lew\") # rossiya-24\n",
    "#channel_info = get_channel_info(\"UCdubelOloxR3wzwJG9x8YqQ\") # tvrain\n",
    "playlist_id = channel_info[\"contentDetails\"][\"relatedPlaylists\"][\"uploads\"]\n",
    "\n",
    "print(\"Videos count:\", channel_info[\"statistics\"][\"videoCount\"])\n",
    "upload_playlist = get_playlist_iterating(playlist_id)\n",
    "table_name = state_table_init()\n",
    "\n",
    "\n",
    "def parse_from_playlist(upload_playlist):\n",
    "    video_id_list = []\n",
    "    for video in upload_playlist[\"items\"]:\n",
    "        video_id_list.append(video[\"contentDetails\"][\"videoId\"])\n",
    "    video_info_list = get_video_info(video_id_list)\n",
    "\n",
    "    video_table_init()\n",
    "\n",
    "    for video in video_info_list:\n",
    "        db_insert_video(video)\n",
    "        db_set_state(table_name, video)\n",
    "\n",
    "parse_from_playlist(upload_playlist)\n",
    "\n",
    "num_playlists = 1\n",
    "while \"nextPageToken\" in upload_playlist and num_playlists < 50:\n",
    "    token = upload_playlist[\"nextPageToken\"]\n",
    "    upload_playlist = get_playlist_iterating(playlist_id, token)\n",
    "    parse_from_playlist(upload_playlist)\n",
    "    num_playlists += 1\n",
    "\n",
    "\n"
   ]
  }
 ],
 "metadata": {
  "kernelspec": {
   "display_name": "Python 3",
   "language": "python",
   "name": "python3"
  },
  "language_info": {
   "codemirror_mode": {
    "name": "ipython",
    "version": 3
   },
   "file_extension": ".py",
   "mimetype": "text/x-python",
   "name": "python",
   "nbconvert_exporter": "python",
   "pygments_lexer": "ipython3",
   "version": "3.7.0"
  }
 },
 "nbformat": 4,
 "nbformat_minor": 1
}